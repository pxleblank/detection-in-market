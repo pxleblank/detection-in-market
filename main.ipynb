{
 "cells": [
  {
   "cell_type": "code",
   "id": "initial_id",
   "metadata": {
    "collapsed": true,
    "ExecuteTime": {
     "end_time": "2025-03-29T12:18:02.703939Z",
     "start_time": "2025-03-29T11:39:59.147177Z"
    }
   },
   "source": [
    "import os\n",
    "import cv2\n",
    "import xml.etree.ElementTree as ET\n",
    "from tqdm import tqdm\n",
    "import shutil\n",
    "from ultralytics import YOLO\n",
    "import glob\n",
    "import random\n",
    "import mlflow\n",
    "\n",
    "\n",
    "# Конвертация CVAT XML в YOLO-формат (.txt)\n",
    "def xml_to_yolo(xml_path, output_dir, class_map):\n",
    "    os.makedirs(output_dir, exist_ok=True)\n",
    "    tree = ET.parse(xml_path)\n",
    "    root = tree.getroot()\n",
    "\n",
    "    original_size = root.find(\"meta/original_size\")\n",
    "    width = int(original_size.find(\"width\").text)\n",
    "    height = int(original_size.find(\"height\").text)\n",
    "\n",
    "    # Словарь для хранения аннотаций по кадрам: {frame_num: [yolo_lines]}\n",
    "    frames = {}\n",
    "\n",
    "    # Обработка всех треков\n",
    "    for track in root.findall(\"track\"):\n",
    "        label = track.get(\"label\")\n",
    "        if label not in class_map:\n",
    "            continue\n",
    "        cls_id = class_map[label]\n",
    "\n",
    "        for box in track.findall(\"box\"):\n",
    "            frame_num = int(box.get(\"frame\"))\n",
    "            if frame_num not in frames:\n",
    "                frames[frame_num] = []\n",
    "\n",
    "            xtl = float(box.get(\"xtl\"))\n",
    "            ytl = float(box.get(\"ytl\"))\n",
    "            xbr = float(box.get(\"xbr\"))\n",
    "            ybr = float(box.get(\"ybr\"))\n",
    "\n",
    "            x_center = (xtl + xbr) / (2 * width)\n",
    "            y_center = (ytl + ybr) / (2 * height)\n",
    "            w = (xbr - xtl) / width\n",
    "            h = (ybr - ytl) / height\n",
    "\n",
    "            frames[frame_num].append(f\"{cls_id} {x_center:.6f} {y_center:.6f} {w:.6f} {h:.6f}\")\n",
    "\n",
    "    # Сохранение в .txt\n",
    "    for frame_num, lines in tqdm(frames.items(), desc=\"Making labels\"):\n",
    "        filename = f\"frame_{frame_num:06d}\"  # frame_000000.txt\n",
    "        with open(f\"{output_dir}/{filename}.txt\", \"w\") as f:\n",
    "            f.write(\"\\n\".join(lines))\n",
    "\n",
    "\n",
    "# Извлечение кадров из видео\n",
    "def extract_frames(video_path, output_dir, frame_interval=1):\n",
    "    os.makedirs(output_dir, exist_ok=True)\n",
    "    cap = cv2.VideoCapture(video_path)\n",
    "    frame_count = 0\n",
    "    saved_count = 0\n",
    "\n",
    "    with tqdm(desc=\"Extracting frames\") as pbar:\n",
    "        while cap.isOpened():\n",
    "            ret, frame = cap.read()\n",
    "            if not ret:\n",
    "                break\n",
    "\n",
    "            if frame_count % frame_interval == 0:\n",
    "                cv2.imwrite(f\"{output_dir}/frame_{saved_count:06d}.jpg\", frame)\n",
    "                saved_count += 1\n",
    "\n",
    "            frame_count += 1\n",
    "            pbar.update(1)\n",
    "\n",
    "    cap.release()\n",
    "    print(f\"Extracted {saved_count} frames\")\n",
    "\n",
    "\n",
    "# Создание датасета для обучения созданию псевдо-лейблов\n",
    "def create_dataset_for_training_generate_pseudo_labels(all_frames_dir, labeled_data_dir, dataset_dir):\n",
    "    os.makedirs(f\"{dataset_dir}/train/images\", exist_ok=True)\n",
    "    os.makedirs(f\"{dataset_dir}/train/labels\", exist_ok=True)\n",
    "    os.makedirs(f\"{dataset_dir}/val/images\", exist_ok=True)\n",
    "    os.makedirs(f\"{dataset_dir}/val/labels\", exist_ok=True)\n",
    "\n",
    "    labeled_files = [f.split('.')[0] for f in os.listdir(labeled_data_dir)]\n",
    "\n",
    "    random.seed(70)\n",
    "    random.shuffle(labeled_files)\n",
    "\n",
    "    # Разделение на train/val\n",
    "    split_ratio = 0.8\n",
    "    train_files = labeled_files[:int(len(labeled_files) * split_ratio)]\n",
    "    val_files = labeled_files[int(len(labeled_files) * split_ratio):]\n",
    "\n",
    "    for file_base in tqdm(train_files):\n",
    "\n",
    "        src_img = f\"{all_frames_dir}/{file_base}.jpg\"\n",
    "        dst_img = f\"{dataset_dir}/train/images/{file_base}.jpg\"\n",
    "        if os.path.exists(src_img):\n",
    "            os.symlink(os.path.abspath(src_img), dst_img)\n",
    "\n",
    "        src_label = f\"{labeled_data_dir}/{file_base}.txt\"\n",
    "        dst_label = f\"{dataset_dir}/train/labels/{file_base}.txt\"\n",
    "        shutil.copy(src_label, dst_label)\n",
    "\n",
    "    for file_base in tqdm(val_files):\n",
    "\n",
    "        src_img = f\"{all_frames_dir}/{file_base}.jpg\"\n",
    "        dst_img = f\"{dataset_dir}/val/images/{file_base}.jpg\"\n",
    "        if os.path.exists(src_img):\n",
    "            os.symlink(os.path.abspath(src_img), dst_img)\n",
    "\n",
    "        src_label = f\"{labeled_data_dir}/{file_base}.txt\"\n",
    "        dst_label = f\"{dataset_dir}/val/labels/{file_base}.txt\"\n",
    "        shutil.copy(src_label, dst_label)\n",
    "\n",
    "\n",
    "# Генерация псевдо-лейблов\n",
    "def generate_pseudo_labels(model, frames_dir, output_dir, conf=0.0):\n",
    "    os.makedirs(output_dir, exist_ok=True)\n",
    "    frame_paths = glob.glob(f\"{frames_dir}/*.jpg\")\n",
    "\n",
    "    for frame_path in tqdm(frame_paths, desc=\"Generating pseudo-labels\"):\n",
    "        try:\n",
    "            results = model.predict(frame_path, conf=conf, imgsz=640)\n",
    "            results[0].save_txt(f\"{output_dir}/{os.path.basename(frame_path)[:-4]}.txt\")\n",
    "        except Exception as e:\n",
    "            print(f\"Error processing {frame_path}: {str(e)}\")\n",
    "\n",
    "\n",
    "# Объединение лейблов и псевдо-лейблов\n",
    "def combine_and_split_datasets(all_frames_dir, labeled_dir, pseudo_dir, output_dir, split_ratio=0.8, seed=70):\n",
    "    dirs = {\n",
    "        'train': ['images', 'labels'],\n",
    "        'val': ['images', 'labels']\n",
    "    }\n",
    "\n",
    "    for dataset in dirs:\n",
    "        for subdir in dirs[dataset]:\n",
    "            os.makedirs(f\"{output_dir}/{dataset}/{subdir}\", exist_ok=True)\n",
    "\n",
    "    all_files = []\n",
    "\n",
    "    for f in glob.glob(f\"{labeled_dir}/*.txt\"):\n",
    "        base_name = os.path.basename(f)[:-4]\n",
    "        all_files.append(('labeled', base_name))\n",
    "\n",
    "    for f in glob.glob(f\"{pseudo_dir}/*.txt\"):\n",
    "        base_name = os.path.basename(f)[:-4]\n",
    "        all_files.append(('pseudo', base_name))\n",
    "\n",
    "    random.seed(seed)\n",
    "    random.shuffle(all_files)\n",
    "\n",
    "    split_idx = int(len(all_files) * split_ratio)\n",
    "    train_files = all_files[:split_idx]\n",
    "    val_files = all_files[split_idx:]\n",
    "\n",
    "    def copy_files(files, dataset_type):\n",
    "        for src_type, base_name in files:\n",
    "\n",
    "            src_img = f\"{all_frames_dir}/{base_name}.jpg\"\n",
    "            dst_img = f\"{output_dir}/{dataset_type}/images/{base_name}.jpg\"\n",
    "\n",
    "            if os.path.exists(src_img):\n",
    "                shutil.copy(src_img, dst_img)\n",
    "            else:\n",
    "                print(f\"{src_img} not found\")\n",
    "\n",
    "            src_txt = f\"{labeled_dir if src_type == 'labeled' else pseudo_dir}/{base_name}.txt\"\n",
    "            dst_txt = f\"{output_dir}/{dataset_type}/labels/{base_name}.txt\"\n",
    "            if os.path.exists(src_txt):\n",
    "                shutil.copy(src_txt, dst_txt)\n",
    "            else:\n",
    "                print(f\"{src_txt} not found\")\n",
    "\n",
    "    copy_files(train_files, 'train')\n",
    "    copy_files(val_files, 'val')\n",
    "\n",
    "    print(f\"combined_dataset create: {len(all_files)} files\")\n",
    "\n",
    "\n",
    "if __name__ == \"__main__\":\n",
    "\n",
    "    mlflow.set_tracking_uri(\"file:///.../runs/mlflow\")  # ... - путь до проекта\n",
    "\n",
    "    CLASS_MAP = {'person': 0, 'canopy': 1, 'pallet': 2}\n",
    "    VIDEO_PATH = \"data/train.mp4\"\n",
    "    XML_PATH = \"annotations.xml\"\n",
    "\n",
    "    # 1. Конвертация CVAT XML в YOLO-формат (.txt)\n",
    "    xml_to_yolo(XML_PATH, \"labeled_data\", CLASS_MAP)\n",
    "\n",
    "    # 2. Извлечение кадров\n",
    "    extract_frames(VIDEO_PATH, \"all_frames\", frame_interval=1)\n",
    "\n",
    "    # 3. Создание датасета для обучения созданию псевдо-лейблов\n",
    "    all_frames_dir = \"all_frames\"\n",
    "    labeled_data_dir = \"labeled_data\"\n",
    "    dataset_dir = \"datasets\"\n",
    "\n",
    "    create_dataset_for_training_generate_pseudo_labels(all_frames_dir, labeled_data_dir, dataset_dir)\n",
    "    \n",
    "    # 4. Первое обучение для создания псевдо-лейблов\n",
    "    model = YOLO(\"yolov8n.pt\")\n",
    "\n",
    "    for param in model.model.parameters():\n",
    "        param.requires_grad = False\n",
    "\n",
    "    for param in model.model.model[-10:].parameters():\n",
    "        param.requires_grad = True\n",
    "\n",
    "    model.train(\n",
    "        data=\"data0.yaml\",\n",
    "        epochs=10,\n",
    "        imgsz=640,\n",
    "        batch=16,\n",
    "        device=\"cuda\",\n",
    "        optimizer=\"AdamW\",\n",
    "        lr0=0.001,\n",
    "    )\n",
    "\n",
    "    # 5. Генерация псевдо-лейблов\n",
    "    best_model = YOLO(\"runs/detect/train/weights/best.pt\")\n",
    "    generate_pseudo_labels(best_model, \"all_frames\", \"pseudo_labels\", conf=0.0)\n",
    "\n",
    "    # 6. Объединение данных\n",
    "    combine_and_split_datasets(all_frames_dir=\"all_frames\", labeled_dir=\"labeled_data\", pseudo_dir=\"pseudo_labels\", output_dir=\"combined_dataset\")\n",
    "\n",
    "    # 7. Обучение модели со всеми лейблами\n",
    "    model = YOLO(\"runs/final_train/weights/best.pt\")\n",
    "    model.train(\n",
    "        data=\"data.yaml\",\n",
    "        epochs=10,\n",
    "        imgsz=640,\n",
    "        patience=3,\n",
    "        resume=False,\n",
    "        device=\"cuda\",\n",
    "        optimizer=\"AdamW\",\n",
    "        lr0=0.001,\n",
    "        project=\"runs\",\n",
    "        name=\"final_train\"\n",
    "    )\n",
    "\n",
    "    print(\"Finish. Model in runs/final_train/weights/best.pt\")"
   ],
   "outputs": [
    {
     "name": "stdout",
     "output_type": "stream",
     "text": [
      "New https://pypi.org/project/ultralytics/8.3.98 available  Update with 'pip install -U ultralytics'\n",
      "Ultralytics 8.3.97  Python-3.11.4 torch-2.5.1+cu118 CUDA:0 (NVIDIA GeForce RTX 2050, 4096MiB)\n",
      "\u001B[34m\u001B[1mengine\\trainer: \u001B[0mtask=detect, mode=train, model=runs\\final_train\\weights\\best.pt, data=data.yaml, epochs=20, time=None, patience=100, batch=16, imgsz=640, save=True, save_period=-1, cache=False, device=cuda, workers=8, project=runs, name=final_train, exist_ok=False, pretrained=True, optimizer=AdamW, verbose=True, seed=0, deterministic=True, single_cls=False, rect=False, cos_lr=False, close_mosaic=10, resume=runs\\final_train\\weights\\best.pt, amp=True, fraction=1.0, profile=False, freeze=None, multi_scale=False, overlap_mask=True, mask_ratio=4, dropout=0.0, val=True, split=val, save_json=False, save_hybrid=False, conf=None, iou=0.7, max_det=300, half=False, dnn=False, plots=True, source=None, vid_stride=1, stream_buffer=False, visualize=False, augment=False, agnostic_nms=False, classes=None, retina_masks=False, embed=None, show=False, save_frames=False, save_txt=False, save_conf=False, save_crop=False, show_labels=True, show_conf=True, show_boxes=True, line_width=None, format=torchscript, keras=False, optimize=False, int8=False, dynamic=False, simplify=True, opset=None, workspace=None, nms=False, lr0=0.001, lrf=0.01, momentum=0.937, weight_decay=0.0005, warmup_epochs=3.0, warmup_momentum=0.8, warmup_bias_lr=0.1, box=7.5, cls=0.5, dfl=1.5, pose=12.0, kobj=1.0, nbs=64, hsv_h=0.015, hsv_s=0.7, hsv_v=0.4, degrees=0.0, translate=0.1, scale=0.5, shear=0.0, perspective=0.0, flipud=0.0, fliplr=0.5, bgr=0.0, mosaic=1.0, mixup=0.0, copy_paste=0.0, copy_paste_mode=flip, auto_augment=randaugment, erasing=0.4, crop_fraction=1.0, cfg=None, tracker=botsort.yaml, save_dir=runs\\final_train\n",
      "\u001B[34m\u001B[1mTensorBoard: \u001B[0mStart with 'tensorboard --logdir runs\\final_train', view at http://localhost:6006/\n",
      "\n",
      "                   from  n    params  module                                       arguments                     \n",
      "  0                  -1  1       464  ultralytics.nn.modules.conv.Conv             [3, 16, 3, 2]                 \n",
      "  1                  -1  1      4672  ultralytics.nn.modules.conv.Conv             [16, 32, 3, 2]                \n",
      "  2                  -1  1      7360  ultralytics.nn.modules.block.C2f             [32, 32, 1, True]             \n",
      "  3                  -1  1     18560  ultralytics.nn.modules.conv.Conv             [32, 64, 3, 2]                \n",
      "  4                  -1  2     49664  ultralytics.nn.modules.block.C2f             [64, 64, 2, True]             \n",
      "  5                  -1  1     73984  ultralytics.nn.modules.conv.Conv             [64, 128, 3, 2]               \n",
      "  6                  -1  2    197632  ultralytics.nn.modules.block.C2f             [128, 128, 2, True]           \n",
      "  7                  -1  1    295424  ultralytics.nn.modules.conv.Conv             [128, 256, 3, 2]              \n",
      "  8                  -1  1    460288  ultralytics.nn.modules.block.C2f             [256, 256, 1, True]           \n",
      "  9                  -1  1    164608  ultralytics.nn.modules.block.SPPF            [256, 256, 5]                 \n",
      " 10                  -1  1         0  torch.nn.modules.upsampling.Upsample         [None, 2, 'nearest']          \n",
      " 11             [-1, 6]  1         0  ultralytics.nn.modules.conv.Concat           [1]                           \n",
      " 12                  -1  1    148224  ultralytics.nn.modules.block.C2f             [384, 128, 1]                 \n",
      " 13                  -1  1         0  torch.nn.modules.upsampling.Upsample         [None, 2, 'nearest']          \n",
      " 14             [-1, 4]  1         0  ultralytics.nn.modules.conv.Concat           [1]                           \n",
      " 15                  -1  1     37248  ultralytics.nn.modules.block.C2f             [192, 64, 1]                  \n",
      " 16                  -1  1     36992  ultralytics.nn.modules.conv.Conv             [64, 64, 3, 2]                \n",
      " 17            [-1, 12]  1         0  ultralytics.nn.modules.conv.Concat           [1]                           \n",
      " 18                  -1  1    123648  ultralytics.nn.modules.block.C2f             [192, 128, 1]                 \n",
      " 19                  -1  1    147712  ultralytics.nn.modules.conv.Conv             [128, 128, 3, 2]              \n",
      " 20             [-1, 9]  1         0  ultralytics.nn.modules.conv.Concat           [1]                           \n",
      " 21                  -1  1    493056  ultralytics.nn.modules.block.C2f             [384, 256, 1]                 \n",
      " 22        [15, 18, 21]  1    751897  ultralytics.nn.modules.head.Detect           [3, [64, 128, 256]]           \n",
      "Model summary: 129 layers, 3,011,433 parameters, 3,011,417 gradients, 8.2 GFLOPs\n",
      "\n",
      "Transferred 355/355 items from pretrained weights\n",
      "Freezing layer 'model.22.dfl.conv.weight'\n",
      "\u001B[34m\u001B[1mAMP: \u001B[0mrunning Automatic Mixed Precision (AMP) checks...\n",
      "\u001B[34m\u001B[1mAMP: \u001B[0mchecks passed \n"
     ]
    },
    {
     "name": "stderr",
     "output_type": "stream",
     "text": [
      "\u001B[34m\u001B[1mtrain: \u001B[0mScanning C:\\PyProjects\\test-market\\combined_dataset\\train\\labels.cache... 10008 images, 0 backgrounds, 0 corrupt: 100%|██████████| 10008/10008 [00:00<?, ?it/s]\n"
     ]
    },
    {
     "name": "stdout",
     "output_type": "stream",
     "text": [
      "\u001B[34m\u001B[1malbumentations: \u001B[0mBlur(p=0.01, blur_limit=(3, 7)), MedianBlur(p=0.01, blur_limit=(3, 7)), ToGray(p=0.01, num_output_channels=3, method='weighted_average'), CLAHE(p=0.01, clip_limit=(1.0, 4.0), tile_grid_size=(8, 8))\n"
     ]
    },
    {
     "name": "stderr",
     "output_type": "stream",
     "text": [
      "\u001B[34m\u001B[1mval: \u001B[0mScanning C:\\PyProjects\\test-market\\combined_dataset\\val\\labels.cache... 3008 images, 0 backgrounds, 0 corrupt: 100%|██████████| 3008/3008 [00:00<?, ?it/s]\n"
     ]
    },
    {
     "name": "stdout",
     "output_type": "stream",
     "text": [
      "Plotting labels to runs\\final_train\\labels.jpg... \n",
      "\u001B[34m\u001B[1moptimizer:\u001B[0m AdamW(lr=0.001, momentum=0.937) with parameter groups 57 weight(decay=0.0), 64 weight(decay=0.0005), 63 bias(decay=0.0)\n",
      "Resuming training runs\\final_train\\weights\\best.pt from epoch 11 to 20 total epochs\n",
      "\u001B[34m\u001B[1mMLflow: \u001B[0mlogging run_id(576821a4b5f146c791466a46c6f6a1e5) to file:///C:/PyProjects/test-market/runs/mlflow\n",
      "\u001B[34m\u001B[1mMLflow: \u001B[0mdisable with 'yolo settings mlflow=False'\n",
      "\u001B[34m\u001B[1mTensorBoard: \u001B[0mmodel graph visualization added \n",
      "Image sizes 640 train, 640 val\n",
      "Using 8 dataloader workers\n",
      "Logging results to \u001B[1mruns\\final_train\u001B[0m\n",
      "Starting training for 20 epochs...\n",
      "Closing dataloader mosaic\n",
      "\u001B[34m\u001B[1malbumentations: \u001B[0mBlur(p=0.01, blur_limit=(3, 7)), MedianBlur(p=0.01, blur_limit=(3, 7)), ToGray(p=0.01, num_output_channels=3, method='weighted_average'), CLAHE(p=0.01, clip_limit=(1.0, 4.0), tile_grid_size=(8, 8))\n",
      "\n",
      "      Epoch    GPU_mem   box_loss   cls_loss   dfl_loss  Instances       Size\n"
     ]
    },
    {
     "name": "stderr",
     "output_type": "stream",
     "text": [
      "      11/20      2.04G     0.3193     0.2408     0.8214         23        640: 100%|██████████| 626/626 [03:07<00:00,  3.34it/s]\n",
      "                 Class     Images  Instances      Box(P          R      mAP50  mAP50-95): 100%|██████████| 94/94 [00:27<00:00,  3.40it/s]"
     ]
    },
    {
     "name": "stdout",
     "output_type": "stream",
     "text": [
      "                   all       3008       5231      0.975      0.987      0.991      0.928\n"
     ]
    },
    {
     "name": "stderr",
     "output_type": "stream",
     "text": [
      "\n"
     ]
    },
    {
     "name": "stdout",
     "output_type": "stream",
     "text": [
      "\n",
      "      Epoch    GPU_mem   box_loss   cls_loss   dfl_loss  Instances       Size\n"
     ]
    },
    {
     "name": "stderr",
     "output_type": "stream",
     "text": [
      "      12/20      2.04G      0.299      0.209     0.8122         13        640: 100%|██████████| 626/626 [03:08<00:00,  3.33it/s]\n",
      "                 Class     Images  Instances      Box(P          R      mAP50  mAP50-95): 100%|██████████| 94/94 [00:25<00:00,  3.71it/s]"
     ]
    },
    {
     "name": "stdout",
     "output_type": "stream",
     "text": [
      "                   all       3008       5231      0.981      0.985      0.993      0.934\n"
     ]
    },
    {
     "name": "stderr",
     "output_type": "stream",
     "text": [
      "\n"
     ]
    },
    {
     "name": "stdout",
     "output_type": "stream",
     "text": [
      "\n",
      "      Epoch    GPU_mem   box_loss   cls_loss   dfl_loss  Instances       Size\n"
     ]
    },
    {
     "name": "stderr",
     "output_type": "stream",
     "text": [
      "      13/20      2.04G      0.286        0.2     0.8099         14        640: 100%|██████████| 626/626 [03:08<00:00,  3.31it/s]\n",
      "                 Class     Images  Instances      Box(P          R      mAP50  mAP50-95): 100%|██████████| 94/94 [00:26<00:00,  3.52it/s]"
     ]
    },
    {
     "name": "stdout",
     "output_type": "stream",
     "text": [
      "                   all       3008       5231      0.978      0.986      0.993      0.942\n"
     ]
    },
    {
     "name": "stderr",
     "output_type": "stream",
     "text": [
      "\n"
     ]
    },
    {
     "name": "stdout",
     "output_type": "stream",
     "text": [
      "\n",
      "      Epoch    GPU_mem   box_loss   cls_loss   dfl_loss  Instances       Size\n"
     ]
    },
    {
     "name": "stderr",
     "output_type": "stream",
     "text": [
      "      14/20      2.04G     0.2719     0.1898     0.8043         10        640: 100%|██████████| 626/626 [03:08<00:00,  3.32it/s]\n",
      "                 Class     Images  Instances      Box(P          R      mAP50  mAP50-95): 100%|██████████| 94/94 [00:20<00:00,  4.53it/s]"
     ]
    },
    {
     "name": "stdout",
     "output_type": "stream",
     "text": [
      "                   all       3008       5231      0.983      0.984      0.992      0.942\n"
     ]
    },
    {
     "name": "stderr",
     "output_type": "stream",
     "text": [
      "\n"
     ]
    },
    {
     "name": "stdout",
     "output_type": "stream",
     "text": [
      "\n",
      "      Epoch    GPU_mem   box_loss   cls_loss   dfl_loss  Instances       Size\n"
     ]
    },
    {
     "name": "stderr",
     "output_type": "stream",
     "text": [
      "      15/20      2.04G     0.2597     0.1805     0.8007         19        640: 100%|██████████| 626/626 [03:11<00:00,  3.28it/s]\n",
      "                 Class     Images  Instances      Box(P          R      mAP50  mAP50-95): 100%|██████████| 94/94 [00:24<00:00,  3.81it/s]"
     ]
    },
    {
     "name": "stdout",
     "output_type": "stream",
     "text": [
      "                   all       3008       5231      0.982      0.989      0.993      0.945\n"
     ]
    },
    {
     "name": "stderr",
     "output_type": "stream",
     "text": [
      "\n"
     ]
    },
    {
     "name": "stdout",
     "output_type": "stream",
     "text": [
      "\n",
      "      Epoch    GPU_mem   box_loss   cls_loss   dfl_loss  Instances       Size\n"
     ]
    },
    {
     "name": "stderr",
     "output_type": "stream",
     "text": [
      "      16/20      2.04G      0.247     0.1723     0.7977         19        640: 100%|██████████| 626/626 [03:09<00:00,  3.31it/s]\n",
      "                 Class     Images  Instances      Box(P          R      mAP50  mAP50-95): 100%|██████████| 94/94 [00:25<00:00,  3.74it/s]"
     ]
    },
    {
     "name": "stdout",
     "output_type": "stream",
     "text": [
      "                   all       3008       5231      0.986      0.988      0.994      0.953\n"
     ]
    },
    {
     "name": "stderr",
     "output_type": "stream",
     "text": [
      "\n"
     ]
    },
    {
     "name": "stdout",
     "output_type": "stream",
     "text": [
      "\n",
      "      Epoch    GPU_mem   box_loss   cls_loss   dfl_loss  Instances       Size\n"
     ]
    },
    {
     "name": "stderr",
     "output_type": "stream",
     "text": [
      "      17/20      2.04G     0.2387      0.167     0.7944         11        640: 100%|██████████| 626/626 [03:06<00:00,  3.35it/s]\n",
      "                 Class     Images  Instances      Box(P          R      mAP50  mAP50-95): 100%|██████████| 94/94 [00:19<00:00,  4.71it/s]"
     ]
    },
    {
     "name": "stdout",
     "output_type": "stream",
     "text": [
      "                   all       3008       5231      0.987      0.988      0.993      0.953\n"
     ]
    },
    {
     "name": "stderr",
     "output_type": "stream",
     "text": [
      "\n"
     ]
    },
    {
     "name": "stdout",
     "output_type": "stream",
     "text": [
      "\n",
      "      Epoch    GPU_mem   box_loss   cls_loss   dfl_loss  Instances       Size\n"
     ]
    },
    {
     "name": "stderr",
     "output_type": "stream",
     "text": [
      "      18/20      2.04G     0.2275     0.1592     0.7911         12        640: 100%|██████████| 626/626 [03:00<00:00,  3.47it/s]\n",
      "                 Class     Images  Instances      Box(P          R      mAP50  mAP50-95): 100%|██████████| 94/94 [00:20<00:00,  4.62it/s]"
     ]
    },
    {
     "name": "stdout",
     "output_type": "stream",
     "text": [
      "                   all       3008       5231      0.984      0.986      0.993      0.954\n"
     ]
    },
    {
     "name": "stderr",
     "output_type": "stream",
     "text": [
      "\n"
     ]
    },
    {
     "name": "stdout",
     "output_type": "stream",
     "text": [
      "\n",
      "      Epoch    GPU_mem   box_loss   cls_loss   dfl_loss  Instances       Size\n"
     ]
    },
    {
     "name": "stderr",
     "output_type": "stream",
     "text": [
      "      19/20      2.04G     0.2156     0.1522     0.7873         10        640: 100%|██████████| 626/626 [03:01<00:00,  3.46it/s]\n",
      "                 Class     Images  Instances      Box(P          R      mAP50  mAP50-95): 100%|██████████| 94/94 [00:20<00:00,  4.59it/s]"
     ]
    },
    {
     "name": "stdout",
     "output_type": "stream",
     "text": [
      "                   all       3008       5231      0.983      0.988      0.994      0.957\n"
     ]
    },
    {
     "name": "stderr",
     "output_type": "stream",
     "text": [
      "\n"
     ]
    },
    {
     "name": "stdout",
     "output_type": "stream",
     "text": [
      "\n",
      "      Epoch    GPU_mem   box_loss   cls_loss   dfl_loss  Instances       Size\n"
     ]
    },
    {
     "name": "stderr",
     "output_type": "stream",
     "text": [
      "      20/20      2.04G     0.2042     0.1447     0.7854         14        640: 100%|██████████| 626/626 [03:00<00:00,  3.46it/s]\n",
      "                 Class     Images  Instances      Box(P          R      mAP50  mAP50-95): 100%|██████████| 94/94 [00:19<00:00,  4.70it/s]"
     ]
    },
    {
     "name": "stdout",
     "output_type": "stream",
     "text": [
      "                   all       3008       5231      0.985      0.989      0.994      0.958\n"
     ]
    },
    {
     "name": "stderr",
     "output_type": "stream",
     "text": [
      "\n"
     ]
    },
    {
     "name": "stdout",
     "output_type": "stream",
     "text": [
      "\n",
      "10 epochs completed in 0.595 hours.\n",
      "Optimizer stripped from runs\\final_train\\weights\\last.pt, 6.2MB\n",
      "Optimizer stripped from runs\\final_train\\weights\\best.pt, 6.2MB\n",
      "\n",
      "Validating runs\\final_train\\weights\\best.pt...\n",
      "Ultralytics 8.3.97  Python-3.11.4 torch-2.5.1+cu118 CUDA:0 (NVIDIA GeForce RTX 2050, 4096MiB)\n",
      "Model summary (fused): 72 layers, 3,006,233 parameters, 0 gradients, 8.1 GFLOPs\n"
     ]
    },
    {
     "name": "stderr",
     "output_type": "stream",
     "text": [
      "                 Class     Images  Instances      Box(P          R      mAP50  mAP50-95): 100%|██████████| 94/94 [00:21<00:00,  4.38it/s]\n"
     ]
    },
    {
     "name": "stdout",
     "output_type": "stream",
     "text": [
      "                   all       3008       5231      0.985      0.989      0.994      0.959\n",
      "                person       1068       1071      0.969      0.972      0.992      0.898\n",
      "                canopy       1955       1956      0.994      0.998      0.995      0.985\n",
      "                pallet       1561       2204      0.991      0.996      0.995      0.993\n",
      "Speed: 0.3ms preprocess, 2.7ms inference, 0.0ms loss, 0.9ms postprocess per image\n",
      "Results saved to \u001B[1mruns\\final_train\u001B[0m\n",
      "\u001B[34m\u001B[1mMLflow: \u001B[0mresults logged to file:///C:/PyProjects/test-market/runs/mlflow\n",
      "\u001B[34m\u001B[1mMLflow: \u001B[0mdisable with 'yolo settings mlflow=False'\n",
      "Процесс завершен! Финальная модель сохранена в runs/final_train/weights/best.pt\n"
     ]
    }
   ],
   "execution_count": 1
  },
  {
   "metadata": {
    "ExecuteTime": {
     "end_time": "2025-03-30T10:28:24.870532Z",
     "start_time": "2025-03-30T10:28:16.135357Z"
    }
   },
   "cell_type": "code",
   "source": [
    "# Проверка изображения и лейблов\n",
    "from PIL import Image, ImageDraw\n",
    "\n",
    "img = Image.open(\"all_frames/frame_005100.jpg\")\n",
    "draw = ImageDraw.Draw(img)\n",
    "with open(\"pseudo_labels/frame_005100.txt\", \"r\") as f:\n",
    "    for line in f:\n",
    "        cls, x, y, w, h = map(float, line.split())\n",
    "        x1 = int((x - w / 2) * img.width)\n",
    "        y1 = int((y - h / 2) * img.height)\n",
    "        x2 = int((x + w / 2) * img.width)\n",
    "        y2 = int((y + h / 2) * img.height)\n",
    "        draw.rectangle([x1, y1, x2, y2], outline=\"red\", width=2)\n",
    "img.show()"
   ],
   "id": "7402032bd86ec914",
   "outputs": [],
   "execution_count": 2
  }
 ],
 "metadata": {
  "kernelspec": {
   "display_name": "Python 3",
   "language": "python",
   "name": "python3"
  },
  "language_info": {
   "codemirror_mode": {
    "name": "ipython",
    "version": 2
   },
   "file_extension": ".py",
   "mimetype": "text/x-python",
   "name": "python",
   "nbconvert_exporter": "python",
   "pygments_lexer": "ipython2",
   "version": "2.7.6"
  }
 },
 "nbformat": 4,
 "nbformat_minor": 5
}
